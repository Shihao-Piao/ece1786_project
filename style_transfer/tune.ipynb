{
 "cells": [
  {
   "cell_type": "code",
   "execution_count": 1,
   "metadata": {
    "colab": {
     "base_uri": "https://localhost:8080/"
    },
    "collapsed": true,
    "executionInfo": {
     "elapsed": 15617,
     "status": "ok",
     "timestamp": 1701573798004,
     "user": {
      "displayName": "sayho park",
      "userId": "15525567311210298677"
     },
     "user_tz": 300
    },
    "id": "gGSy_OXxWcp3",
    "outputId": "d4e2deaf-8761-4b2d-fa53-0262ec98d69e"
   },
   "outputs": [
    {
     "output_type": "stream",
     "name": "stdout",
     "text": [
      "Available device: cuda\n"
     ]
    }
   ],
   "source": [
    "import torch\n",
    "import torch.nn as nn\n",
    "import torch.nn.functional as F\n",
    "import numpy as np\n",
    "import pandas as pd\n",
    "import os,gc,re,time\n",
    "import matplotlib.pyplot as plt\n",
    "import seaborn as sns\n",
    "import spacy,random\n",
    "from collections import Counter\n",
    "import warnings,unicodedata\n",
    "warnings.simplefilter(\"ignore\")\n",
    "\n",
    "\n",
    "#setting device\n",
    "device = 'cuda' if torch.cuda.is_available() else 'cpu'\n",
    "print(f'Available device: {device}')"
   ]
  },
  {
   "cell_type": "code",
   "execution_count": 2,
   "metadata": {
    "colab": {
     "base_uri": "https://localhost:8080/"
    },
    "executionInfo": {
     "elapsed": 14849,
     "status": "ok",
     "timestamp": 1701573815591,
     "user": {
      "displayName": "sayho park",
      "userId": "15525567311210298677"
     },
     "user_tz": 300
    },
    "id": "AA_hMsiTWcp5",
    "outputId": "a2c713be-6841-4752-b615-29bce428eaf7"
   },
   "outputs": [
    {
     "output_type": "stream",
     "name": "stdout",
     "text": [
      "Mounted at /content/drive\n"
     ]
    }
   ],
   "source": [
    "# colab\n",
    "from google.colab import drive\n",
    "drive.mount('/content/drive')\n",
    "os.chdir('/content/drive/MyDrive/style_transfer')"
   ]
  },
  {
   "cell_type": "code",
   "source": [
    "import pandas as pd\n",
    "df = pd.read_csv(\"data/tune.csv\")\n",
    "df"
   ],
   "metadata": {
    "colab": {
     "base_uri": "https://localhost:8080/",
     "height": 424
    },
    "id": "6WRo5LuutDbj",
    "executionInfo": {
     "status": "ok",
     "timestamp": 1701573852470,
     "user_tz": 300,
     "elapsed": 1074,
     "user": {
      "displayName": "sayho park",
      "userId": "15525567311210298677"
     }
    },
    "outputId": "7af5f16a-5345-46b6-955e-2f7516a9c448"
   },
   "execution_count": 3,
   "outputs": [
    {
     "output_type": "execute_result",
     "data": {
      "text/plain": [
       "                                                  formal  \\\n",
       "0      The In-Laws movie isn't a holiday movie, but i...   \n",
       "1               I don't think that page gave me viruses.   \n",
       "2      I watch it everyday, my favorite charachter is...   \n",
       "3      Funbrain.com and runescape.com are great for f...   \n",
       "4      He was on the Late Night show with Conan O'Bri...   \n",
       "...                                                  ...   \n",
       "59995  To get her to do what you want her to do, you ...   \n",
       "59996           You get excited when you talk about him.   \n",
       "59997                               I am a single woman.   \n",
       "59998  Just because he says it, doesn't mean that he ...   \n",
       "59999                   I hope that you get it resolved.   \n",
       "\n",
       "                                                informal  \n",
       "0      the movie The In-Laws not exactly a holiday mo...  \n",
       "1             that page did not give me viroses(i think)  \n",
       "2      of corse i be wachin it evry day, my fav chara...  \n",
       "3      runescape.com (my kids love it) & funbrain.com...  \n",
       "4      Is he gay?He was on Late Night with Conan O'Br...  \n",
       "...                                                  ...  \n",
       "59995  she is gonna do what she wants no matter what ...  \n",
       "59996                 you sound like you like him a lot.  \n",
       "59997                  im single, but i'm a girl sry lol  \n",
       "59998  But, that does not mean he is in love, or love...  \n",
       "59999                        Hope you get it worked out.  \n",
       "\n",
       "[60000 rows x 2 columns]"
      ],
      "text/html": [
       "\n",
       "  <div id=\"df-f014b542-1fe5-4eec-91eb-20acfbd1ac7a\" class=\"colab-df-container\">\n",
       "    <div>\n",
       "<style scoped>\n",
       "    .dataframe tbody tr th:only-of-type {\n",
       "        vertical-align: middle;\n",
       "    }\n",
       "\n",
       "    .dataframe tbody tr th {\n",
       "        vertical-align: top;\n",
       "    }\n",
       "\n",
       "    .dataframe thead th {\n",
       "        text-align: right;\n",
       "    }\n",
       "</style>\n",
       "<table border=\"1\" class=\"dataframe\">\n",
       "  <thead>\n",
       "    <tr style=\"text-align: right;\">\n",
       "      <th></th>\n",
       "      <th>formal</th>\n",
       "      <th>informal</th>\n",
       "    </tr>\n",
       "  </thead>\n",
       "  <tbody>\n",
       "    <tr>\n",
       "      <th>0</th>\n",
       "      <td>The In-Laws movie isn't a holiday movie, but i...</td>\n",
       "      <td>the movie The In-Laws not exactly a holiday mo...</td>\n",
       "    </tr>\n",
       "    <tr>\n",
       "      <th>1</th>\n",
       "      <td>I don't think that page gave me viruses.</td>\n",
       "      <td>that page did not give me viroses(i think)</td>\n",
       "    </tr>\n",
       "    <tr>\n",
       "      <th>2</th>\n",
       "      <td>I watch it everyday, my favorite charachter is...</td>\n",
       "      <td>of corse i be wachin it evry day, my fav chara...</td>\n",
       "    </tr>\n",
       "    <tr>\n",
       "      <th>3</th>\n",
       "      <td>Funbrain.com and runescape.com are great for f...</td>\n",
       "      <td>runescape.com (my kids love it) &amp; funbrain.com...</td>\n",
       "    </tr>\n",
       "    <tr>\n",
       "      <th>4</th>\n",
       "      <td>He was on the Late Night show with Conan O'Bri...</td>\n",
       "      <td>Is he gay?He was on Late Night with Conan O'Br...</td>\n",
       "    </tr>\n",
       "    <tr>\n",
       "      <th>...</th>\n",
       "      <td>...</td>\n",
       "      <td>...</td>\n",
       "    </tr>\n",
       "    <tr>\n",
       "      <th>59995</th>\n",
       "      <td>To get her to do what you want her to do, you ...</td>\n",
       "      <td>she is gonna do what she wants no matter what ...</td>\n",
       "    </tr>\n",
       "    <tr>\n",
       "      <th>59996</th>\n",
       "      <td>You get excited when you talk about him.</td>\n",
       "      <td>you sound like you like him a lot.</td>\n",
       "    </tr>\n",
       "    <tr>\n",
       "      <th>59997</th>\n",
       "      <td>I am a single woman.</td>\n",
       "      <td>im single, but i'm a girl sry lol</td>\n",
       "    </tr>\n",
       "    <tr>\n",
       "      <th>59998</th>\n",
       "      <td>Just because he says it, doesn't mean that he ...</td>\n",
       "      <td>But, that does not mean he is in love, or love...</td>\n",
       "    </tr>\n",
       "    <tr>\n",
       "      <th>59999</th>\n",
       "      <td>I hope that you get it resolved.</td>\n",
       "      <td>Hope you get it worked out.</td>\n",
       "    </tr>\n",
       "  </tbody>\n",
       "</table>\n",
       "<p>60000 rows × 2 columns</p>\n",
       "</div>\n",
       "    <div class=\"colab-df-buttons\">\n",
       "\n",
       "  <div class=\"colab-df-container\">\n",
       "    <button class=\"colab-df-convert\" onclick=\"convertToInteractive('df-f014b542-1fe5-4eec-91eb-20acfbd1ac7a')\"\n",
       "            title=\"Convert this dataframe to an interactive table.\"\n",
       "            style=\"display:none;\">\n",
       "\n",
       "  <svg xmlns=\"http://www.w3.org/2000/svg\" height=\"24px\" viewBox=\"0 -960 960 960\">\n",
       "    <path d=\"M120-120v-720h720v720H120Zm60-500h600v-160H180v160Zm220 220h160v-160H400v160Zm0 220h160v-160H400v160ZM180-400h160v-160H180v160Zm440 0h160v-160H620v160ZM180-180h160v-160H180v160Zm440 0h160v-160H620v160Z\"/>\n",
       "  </svg>\n",
       "    </button>\n",
       "\n",
       "  <style>\n",
       "    .colab-df-container {\n",
       "      display:flex;\n",
       "      gap: 12px;\n",
       "    }\n",
       "\n",
       "    .colab-df-convert {\n",
       "      background-color: #E8F0FE;\n",
       "      border: none;\n",
       "      border-radius: 50%;\n",
       "      cursor: pointer;\n",
       "      display: none;\n",
       "      fill: #1967D2;\n",
       "      height: 32px;\n",
       "      padding: 0 0 0 0;\n",
       "      width: 32px;\n",
       "    }\n",
       "\n",
       "    .colab-df-convert:hover {\n",
       "      background-color: #E2EBFA;\n",
       "      box-shadow: 0px 1px 2px rgba(60, 64, 67, 0.3), 0px 1px 3px 1px rgba(60, 64, 67, 0.15);\n",
       "      fill: #174EA6;\n",
       "    }\n",
       "\n",
       "    .colab-df-buttons div {\n",
       "      margin-bottom: 4px;\n",
       "    }\n",
       "\n",
       "    [theme=dark] .colab-df-convert {\n",
       "      background-color: #3B4455;\n",
       "      fill: #D2E3FC;\n",
       "    }\n",
       "\n",
       "    [theme=dark] .colab-df-convert:hover {\n",
       "      background-color: #434B5C;\n",
       "      box-shadow: 0px 1px 3px 1px rgba(0, 0, 0, 0.15);\n",
       "      filter: drop-shadow(0px 1px 2px rgba(0, 0, 0, 0.3));\n",
       "      fill: #FFFFFF;\n",
       "    }\n",
       "  </style>\n",
       "\n",
       "    <script>\n",
       "      const buttonEl =\n",
       "        document.querySelector('#df-f014b542-1fe5-4eec-91eb-20acfbd1ac7a button.colab-df-convert');\n",
       "      buttonEl.style.display =\n",
       "        google.colab.kernel.accessAllowed ? 'block' : 'none';\n",
       "\n",
       "      async function convertToInteractive(key) {\n",
       "        const element = document.querySelector('#df-f014b542-1fe5-4eec-91eb-20acfbd1ac7a');\n",
       "        const dataTable =\n",
       "          await google.colab.kernel.invokeFunction('convertToInteractive',\n",
       "                                                    [key], {});\n",
       "        if (!dataTable) return;\n",
       "\n",
       "        const docLinkHtml = 'Like what you see? Visit the ' +\n",
       "          '<a target=\"_blank\" href=https://colab.research.google.com/notebooks/data_table.ipynb>data table notebook</a>'\n",
       "          + ' to learn more about interactive tables.';\n",
       "        element.innerHTML = '';\n",
       "        dataTable['output_type'] = 'display_data';\n",
       "        await google.colab.output.renderOutput(dataTable, element);\n",
       "        const docLink = document.createElement('div');\n",
       "        docLink.innerHTML = docLinkHtml;\n",
       "        element.appendChild(docLink);\n",
       "      }\n",
       "    </script>\n",
       "  </div>\n",
       "\n",
       "\n",
       "<div id=\"df-944634fb-599e-4b48-b2c3-d7dc9137bbd2\">\n",
       "  <button class=\"colab-df-quickchart\" onclick=\"quickchart('df-944634fb-599e-4b48-b2c3-d7dc9137bbd2')\"\n",
       "            title=\"Suggest charts\"\n",
       "            style=\"display:none;\">\n",
       "\n",
       "<svg xmlns=\"http://www.w3.org/2000/svg\" height=\"24px\"viewBox=\"0 0 24 24\"\n",
       "     width=\"24px\">\n",
       "    <g>\n",
       "        <path d=\"M19 3H5c-1.1 0-2 .9-2 2v14c0 1.1.9 2 2 2h14c1.1 0 2-.9 2-2V5c0-1.1-.9-2-2-2zM9 17H7v-7h2v7zm4 0h-2V7h2v10zm4 0h-2v-4h2v4z\"/>\n",
       "    </g>\n",
       "</svg>\n",
       "  </button>\n",
       "\n",
       "<style>\n",
       "  .colab-df-quickchart {\n",
       "      --bg-color: #E8F0FE;\n",
       "      --fill-color: #1967D2;\n",
       "      --hover-bg-color: #E2EBFA;\n",
       "      --hover-fill-color: #174EA6;\n",
       "      --disabled-fill-color: #AAA;\n",
       "      --disabled-bg-color: #DDD;\n",
       "  }\n",
       "\n",
       "  [theme=dark] .colab-df-quickchart {\n",
       "      --bg-color: #3B4455;\n",
       "      --fill-color: #D2E3FC;\n",
       "      --hover-bg-color: #434B5C;\n",
       "      --hover-fill-color: #FFFFFF;\n",
       "      --disabled-bg-color: #3B4455;\n",
       "      --disabled-fill-color: #666;\n",
       "  }\n",
       "\n",
       "  .colab-df-quickchart {\n",
       "    background-color: var(--bg-color);\n",
       "    border: none;\n",
       "    border-radius: 50%;\n",
       "    cursor: pointer;\n",
       "    display: none;\n",
       "    fill: var(--fill-color);\n",
       "    height: 32px;\n",
       "    padding: 0;\n",
       "    width: 32px;\n",
       "  }\n",
       "\n",
       "  .colab-df-quickchart:hover {\n",
       "    background-color: var(--hover-bg-color);\n",
       "    box-shadow: 0 1px 2px rgba(60, 64, 67, 0.3), 0 1px 3px 1px rgba(60, 64, 67, 0.15);\n",
       "    fill: var(--button-hover-fill-color);\n",
       "  }\n",
       "\n",
       "  .colab-df-quickchart-complete:disabled,\n",
       "  .colab-df-quickchart-complete:disabled:hover {\n",
       "    background-color: var(--disabled-bg-color);\n",
       "    fill: var(--disabled-fill-color);\n",
       "    box-shadow: none;\n",
       "  }\n",
       "\n",
       "  .colab-df-spinner {\n",
       "    border: 2px solid var(--fill-color);\n",
       "    border-color: transparent;\n",
       "    border-bottom-color: var(--fill-color);\n",
       "    animation:\n",
       "      spin 1s steps(1) infinite;\n",
       "  }\n",
       "\n",
       "  @keyframes spin {\n",
       "    0% {\n",
       "      border-color: transparent;\n",
       "      border-bottom-color: var(--fill-color);\n",
       "      border-left-color: var(--fill-color);\n",
       "    }\n",
       "    20% {\n",
       "      border-color: transparent;\n",
       "      border-left-color: var(--fill-color);\n",
       "      border-top-color: var(--fill-color);\n",
       "    }\n",
       "    30% {\n",
       "      border-color: transparent;\n",
       "      border-left-color: var(--fill-color);\n",
       "      border-top-color: var(--fill-color);\n",
       "      border-right-color: var(--fill-color);\n",
       "    }\n",
       "    40% {\n",
       "      border-color: transparent;\n",
       "      border-right-color: var(--fill-color);\n",
       "      border-top-color: var(--fill-color);\n",
       "    }\n",
       "    60% {\n",
       "      border-color: transparent;\n",
       "      border-right-color: var(--fill-color);\n",
       "    }\n",
       "    80% {\n",
       "      border-color: transparent;\n",
       "      border-right-color: var(--fill-color);\n",
       "      border-bottom-color: var(--fill-color);\n",
       "    }\n",
       "    90% {\n",
       "      border-color: transparent;\n",
       "      border-bottom-color: var(--fill-color);\n",
       "    }\n",
       "  }\n",
       "</style>\n",
       "\n",
       "  <script>\n",
       "    async function quickchart(key) {\n",
       "      const quickchartButtonEl =\n",
       "        document.querySelector('#' + key + ' button');\n",
       "      quickchartButtonEl.disabled = true;  // To prevent multiple clicks.\n",
       "      quickchartButtonEl.classList.add('colab-df-spinner');\n",
       "      try {\n",
       "        const charts = await google.colab.kernel.invokeFunction(\n",
       "            'suggestCharts', [key], {});\n",
       "      } catch (error) {\n",
       "        console.error('Error during call to suggestCharts:', error);\n",
       "      }\n",
       "      quickchartButtonEl.classList.remove('colab-df-spinner');\n",
       "      quickchartButtonEl.classList.add('colab-df-quickchart-complete');\n",
       "    }\n",
       "    (() => {\n",
       "      let quickchartButtonEl =\n",
       "        document.querySelector('#df-944634fb-599e-4b48-b2c3-d7dc9137bbd2 button');\n",
       "      quickchartButtonEl.style.display =\n",
       "        google.colab.kernel.accessAllowed ? 'block' : 'none';\n",
       "    })();\n",
       "  </script>\n",
       "</div>\n",
       "\n",
       "  <div id=\"id_ed8255b4-039b-49d0-88bc-beb4880c42dd\">\n",
       "    <style>\n",
       "      .colab-df-generate {\n",
       "        background-color: #E8F0FE;\n",
       "        border: none;\n",
       "        border-radius: 50%;\n",
       "        cursor: pointer;\n",
       "        display: none;\n",
       "        fill: #1967D2;\n",
       "        height: 32px;\n",
       "        padding: 0 0 0 0;\n",
       "        width: 32px;\n",
       "      }\n",
       "\n",
       "      .colab-df-generate:hover {\n",
       "        background-color: #E2EBFA;\n",
       "        box-shadow: 0px 1px 2px rgba(60, 64, 67, 0.3), 0px 1px 3px 1px rgba(60, 64, 67, 0.15);\n",
       "        fill: #174EA6;\n",
       "      }\n",
       "\n",
       "      [theme=dark] .colab-df-generate {\n",
       "        background-color: #3B4455;\n",
       "        fill: #D2E3FC;\n",
       "      }\n",
       "\n",
       "      [theme=dark] .colab-df-generate:hover {\n",
       "        background-color: #434B5C;\n",
       "        box-shadow: 0px 1px 3px 1px rgba(0, 0, 0, 0.15);\n",
       "        filter: drop-shadow(0px 1px 2px rgba(0, 0, 0, 0.3));\n",
       "        fill: #FFFFFF;\n",
       "      }\n",
       "    </style>\n",
       "    <button class=\"colab-df-generate\" onclick=\"generateWithVariable('df')\"\n",
       "            title=\"Generate code using this dataframe.\"\n",
       "            style=\"display:none;\">\n",
       "\n",
       "  <svg xmlns=\"http://www.w3.org/2000/svg\" height=\"24px\"viewBox=\"0 0 24 24\"\n",
       "       width=\"24px\">\n",
       "    <path d=\"M7,19H8.4L18.45,9,17,7.55,7,17.6ZM5,21V16.75L18.45,3.32a2,2,0,0,1,2.83,0l1.4,1.43a1.91,1.91,0,0,1,.58,1.4,1.91,1.91,0,0,1-.58,1.4L9.25,21ZM18.45,9,17,7.55Zm-12,3A5.31,5.31,0,0,0,4.9,8.1,5.31,5.31,0,0,0,1,6.5,5.31,5.31,0,0,0,4.9,4.9,5.31,5.31,0,0,0,6.5,1,5.31,5.31,0,0,0,8.1,4.9,5.31,5.31,0,0,0,12,6.5,5.46,5.46,0,0,0,6.5,12Z\"/>\n",
       "  </svg>\n",
       "    </button>\n",
       "    <script>\n",
       "      (() => {\n",
       "      const buttonEl =\n",
       "        document.querySelector('#id_ed8255b4-039b-49d0-88bc-beb4880c42dd button.colab-df-generate');\n",
       "      buttonEl.style.display =\n",
       "        google.colab.kernel.accessAllowed ? 'block' : 'none';\n",
       "\n",
       "      buttonEl.onclick = () => {\n",
       "        google.colab.notebook.generateWithVariable('df');\n",
       "      }\n",
       "      })();\n",
       "    </script>\n",
       "  </div>\n",
       "\n",
       "    </div>\n",
       "  </div>\n"
      ]
     },
     "metadata": {},
     "execution_count": 3
    }
   ]
  },
  {
   "cell_type": "code",
   "execution_count": 76,
   "metadata": {
    "executionInfo": {
     "elapsed": 3087,
     "status": "ok",
     "timestamp": 1701564459951,
     "user": {
      "displayName": "sayho park",
      "userId": "15525567311210298677"
     },
     "user_tz": 300
    },
    "id": "oj9YGfVjWcp5"
   },
   "outputs": [],
   "source": [
    "from transformers import AutoTokenizer, AutoModelForSeq2SeqLM, AdamW\n",
    "import pandas as pd\n",
    "from torch.utils.data import Dataset, DataLoader\n",
    "import torch\n",
    "from tqdm import tqdm\n",
    "\n",
    "# Load model directly\n",
    "from transformers import AutoTokenizer, AutoModelForSeq2SeqLM\n",
    "\n",
    "tokenizer = AutoTokenizer.from_pretrained(\"t5-small\")\n",
    "model = T5ForConditionalGeneration.from_pretrained('t5-small')\n",
    "\n",
    "# Load dataset\n",
    "df = pd.read_csv(\"data/tune.csv\")\n",
    "input_texts = df['formal'].tolist()\n",
    "target_texts = df['informal'].tolist()\n",
    "df = pd.read_csv(\"data/tune_val.csv\")\n",
    "valid_input = df['formal'].tolist()\n",
    "valid_target = df['informal'].tolist()"
   ]
  },
  {
   "cell_type": "code",
   "execution_count": 52,
   "metadata": {
    "executionInfo": {
     "elapsed": 306,
     "status": "ok",
     "timestamp": 1701563247159,
     "user": {
      "displayName": "sayho park",
      "userId": "15525567311210298677"
     },
     "user_tz": 300
    },
    "id": "CioyjVZJWcp6"
   },
   "outputs": [],
   "source": [
    "class CustomDataset(Dataset):\n",
    "    def __init__(self, tokenizer, inputs, targets, max_len=512):\n",
    "        self.tokenizer = tokenizer\n",
    "        self.inputs = inputs\n",
    "        self.targets = targets\n",
    "        self.max_len = max_len\n",
    "\n",
    "    def __len__(self):\n",
    "        return len(self.inputs)\n",
    "\n",
    "    def __getitem__(self, idx):\n",
    "        input_text = self.inputs[idx]\n",
    "        target_text = self.targets[idx]\n",
    "\n",
    "        input_encoding = tokenizer(\n",
    "            input_text, max_length=self.max_len, padding='max_length', truncation=True, return_tensors=\"pt\"\n",
    "        )\n",
    "        target_encoding = tokenizer(\n",
    "            target_text, max_length=self.max_len, padding='max_length', truncation=True, return_tensors=\"pt\"\n",
    "        )\n",
    "\n",
    "        return {\n",
    "            'input_ids': input_encoding['input_ids'].flatten(),\n",
    "            'attention_mask': input_encoding['attention_mask'].flatten(),\n",
    "            'labels': target_encoding['input_ids'].flatten()\n",
    "        }\n"
   ]
  },
  {
   "cell_type": "code",
   "execution_count": 77,
   "metadata": {
    "colab": {
     "base_uri": "https://localhost:8080/"
    },
    "id": "hx1SLHiEWcp6",
    "executionInfo": {
     "status": "ok",
     "timestamp": 1701566934964,
     "user_tz": 300,
     "elapsed": 2469527,
     "user": {
      "displayName": "sayho park",
      "userId": "15525567311210298677"
     }
    },
    "outputId": "5bcf6324-0f47-4e46-aa9f-fe198605e56a"
   },
   "outputs": [
    {
     "output_type": "stream",
     "name": "stderr",
     "text": [
      "Training Epoch 1: 100%|██████████| 1251/1251 [13:26<00:00,  1.55it/s, loss=0.211]\n",
      "Validation Epoch 1: 100%|██████████| 63/63 [00:14<00:00,  4.47it/s, validation loss=0.0801]\n"
     ]
    },
    {
     "output_type": "stream",
     "name": "stdout",
     "text": [
      "Average Validation Loss for Epoch 1: 0.11164402583288768\n"
     ]
    },
    {
     "output_type": "stream",
     "name": "stderr",
     "text": [
      "Training Epoch 2: 100%|██████████| 1251/1251 [13:26<00:00,  1.55it/s, loss=0.0203]\n",
      "Validation Epoch 2: 100%|██████████| 63/63 [00:14<00:00,  4.48it/s, validation loss=0.0539]\n"
     ]
    },
    {
     "output_type": "stream",
     "name": "stdout",
     "text": [
      "Average Validation Loss for Epoch 2: 0.08066440426877566\n"
     ]
    },
    {
     "output_type": "stream",
     "name": "stderr",
     "text": [
      "Training Epoch 3: 100%|██████████| 1251/1251 [13:28<00:00,  1.55it/s, loss=0.041]\n",
      "Validation Epoch 3: 100%|██████████| 63/63 [00:14<00:00,  4.49it/s, validation loss=0.0298]\n"
     ]
    },
    {
     "output_type": "stream",
     "name": "stdout",
     "text": [
      "Average Validation Loss for Epoch 3: 0.07600232710440953\n"
     ]
    }
   ],
   "source": [
    "# DataLoader\n",
    "dataset = CustomDataset(tokenizer, input_texts, target_texts)\n",
    "loader = DataLoader(dataset, batch_size=8, shuffle=True)\n",
    "\n",
    "# Validation data\n",
    "dataset_valid = CustomDataset(tokenizer, valid_input, valid_target)\n",
    "loader_valid = DataLoader(dataset_valid, batch_size=8, shuffle=True)\n",
    "# Move model to GPU if available\n",
    "device = torch.device(\"cuda\" if torch.cuda.is_available() else \"cpu\")\n",
    "model.to(device)\n",
    "\n",
    "# Optimizer\n",
    "optimizer = AdamW(model.parameters(), lr=5e-5)\n",
    "\n",
    "accumulation_steps = 1  # Adjust as needed\n",
    "train_losses = []\n",
    "valid_losses = []\n",
    "for epoch in range(3):  # Number of training epochs\n",
    "    # Training Phase\n",
    "    model.train()\n",
    "    train_progress_bar = tqdm(loader, desc=f\"Training Epoch {epoch + 1}\")\n",
    "    total_train_loss = 0\n",
    "    for batch in train_progress_bar:\n",
    "        optimizer.zero_grad()\n",
    "\n",
    "        input_ids = batch['input_ids'].to(device)\n",
    "        attention_mask = batch['attention_mask'].to(device)\n",
    "        labels = batch['labels'].to(device)\n",
    "\n",
    "        outputs = model(input_ids=input_ids, attention_mask=attention_mask, labels=labels)\n",
    "        loss = outputs.loss\n",
    "        total_train_loss += loss.item()\n",
    "        loss.backward()\n",
    "        optimizer.step()\n",
    "\n",
    "        train_progress_bar.set_postfix({'loss': loss.item()})\n",
    "    train_losses.append(total_train_loss / len(loader))\n",
    "\n",
    "    # Validation Phase\n",
    "    model.eval()\n",
    "    val_progress_bar = tqdm(loader_valid, desc=f\"Validation Epoch {epoch + 1}\")\n",
    "    total_val_loss = 0\n",
    "    for batch in val_progress_bar:\n",
    "        input_ids = batch['input_ids'].to(device)\n",
    "        attention_mask = batch['attention_mask'].to(device)\n",
    "        labels = batch['labels'].to(device)\n",
    "\n",
    "        with torch.no_grad():\n",
    "            outputs = model(input_ids=input_ids, attention_mask=attention_mask, labels=labels)\n",
    "            loss = outputs.loss\n",
    "            total_val_loss += loss.item()\n",
    "\n",
    "        val_progress_bar.set_postfix({'validation loss': loss.item()})\n",
    "    valid_losses.append(total_val_loss / len(loader_valid))\n",
    "\n",
    "    avg_val_loss = total_val_loss / len(loader_valid)\n",
    "    print(f\"Average Validation Loss for Epoch {epoch + 1}: {avg_val_loss}\")\n",
    "\n",
    "\n",
    "\n",
    "\n",
    "# Save the fine-tuned model\n",
    "model_save_path = 'results/tune_model.pt'\n",
    "torch.save(model.state_dict(), model_save_path)"
   ]
  },
  {
   "cell_type": "code",
   "source": [
    "import matplotlib.pyplot as plt\n",
    "epochs = range(1, len(train_losses) + 1)\n",
    "plt.figure(figsize=(10, 6))\n",
    "plt.plot(epochs,train_losses, label='Train Loss')\n",
    "plt.plot(epochs,valid_losses, label='Validation Loss')\n",
    "plt.xlabel('Epochs')\n",
    "plt.ylabel('Loss')\n",
    "plt.title('Training and Validation Loss')\n",
    "plt.legend()\n",
    "plt.show()"
   ],
   "metadata": {
    "colab": {
     "base_uri": "https://localhost:8080/",
     "height": 551
    },
    "id": "ZDPl_jUeIEQe",
    "executionInfo": {
     "status": "ok",
     "timestamp": 1701566939615,
     "user_tz": 300,
     "elapsed": 909,
     "user": {
      "displayName": "sayho park",
      "userId": "15525567311210298677"
     }
    },
    "outputId": "dd2fda06-85be-48f0-dfb0-fbacfda213a9"
   },
   "execution_count": 78,
   "outputs": [
    {
     "output_type": "display_data",
     "data": {
      "text/plain": [
       "<Figure size 1000x600 with 1 Axes>"
      ],
      "image/png": "[encoded data removed]"
     },
     "metadata": {}
    }
   ]
  },
  {
   "cell_type": "code",
   "execution_count": 47,
   "metadata": {
    "executionInfo": {
     "elapsed": 407,
     "status": "ok",
     "timestamp": 1701563145889,
     "user": {
      "displayName": "sayho park",
      "userId": "15525567311210298677"
     },
     "user_tz": 300
    },
    "id": "TI2V_ylmWcp6"
   },
   "outputs": [],
   "source": [
    "def generate_prediction(input_text, model, tokenizer, device):\n",
    "    model.eval()\n",
    "    inputs = tokenizer.encode(input_text, return_tensors=\"pt\").to(device)\n",
    "\n",
    "    with torch.no_grad():\n",
    "        outputs = model.generate(inputs, max_length=40, num_beams=5, early_stopping=True)\n",
    "        print(outputs)\n",
    "\n",
    "    return tokenizer.decode(outputs[0], skip_special_tokens=True)\n"
   ]
  },
  {
   "cell_type": "code",
   "execution_count": 79,
   "metadata": {
    "colab": {
     "base_uri": "https://localhost:8080/"
    },
    "executionInfo": {
     "elapsed": 298,
     "status": "ok",
     "timestamp": 1701566968827,
     "user": {
      "displayName": "sayho park",
      "userId": "15525567311210298677"
     },
     "user_tz": 300
    },
    "id": "PCQd5FGtWcp7",
    "outputId": "d9ea2658-a233-48fd-b1ff-7d529f93ff16"
   },
   "outputs": [
    {
     "output_type": "stream",
     "name": "stdout",
     "text": [
      "tensor([[   71,   388, 10681,    57,     3,     9,  4294,  1689,     5,     1]],\n",
      "       device='cuda:0')\n",
      "a man walks by a silver vehicle\n"
     ]
    }
   ],
   "source": [
    "#model.load_state_dict(torch.load(model_save_path))\n",
    "#model.to(device)\n",
    "\n",
    "test_sentence = \"A man walks by a silver vehicle.\"\n",
    "input_ids = tokenizer.encode(test_sentence, return_tensors=\"pt\")\n",
    "input_ids = input_ids.to(device)\n",
    "print(input_ids)\n",
    "output_ids = model.generate(input_ids)\n",
    "output = tokenizer.decode(output_ids[0], skip_special_tokens=True)\n",
    "print(output)"
   ]
  }
 ],
 "metadata": {
  "accelerator": "GPU",
  "colab": {
   "provenance": []
  },
  "kernelspec": {
   "display_name": "Python 3",
   "name": "python3"
  },
  "language_info": {
   "codemirror_mode": {
    "name": "ipython",
    "version": 2
   },
   "file_extension": ".py",
   "mimetype": "text/x-python",
   "name": "python",
   "nbconvert_exporter": "python",
   "pygments_lexer": "ipython2",
   "version": "2.7.6"
  }
 },
 "nbformat": 4,
 "nbformat_minor": 0
}
